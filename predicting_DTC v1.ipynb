{
  "nbformat": 4,
  "nbformat_minor": 0,
  "metadata": {
    "colab": {
      "provenance": []
    },
    "kernelspec": {
      "name": "python3",
      "display_name": "Python 3"
    },
    "language_info": {
      "name": "python"
    }
  },
  "cells": [
    {
      "cell_type": "code",
      "execution_count": 1,
      "metadata": {
        "id": "7-RQn6o3eEt5"
      },
      "outputs": [],
      "source": [
        "# Import necessary libraries\n",
        "import pandas as pd\n",
        "import matplotlib.pyplot as plt\n",
        "import seaborn as sns\n",
        "from google.colab import drive"
      ]
    },
    {
      "cell_type": "code",
      "source": [
        "# Connect to Google Drive\n",
        "drive.mount('/content/drive')\n",
        "\n",
        "# Define the file path and load dataset\n",
        "data_path = '/content/drive/My Drive/Differentiated_Thyroid_Cancer.csv'\n",
        "data = pd.read_csv(data_path)"
      ],
      "metadata": {
        "colab": {
          "base_uri": "https://localhost:8080/"
        },
        "id": "xZ-wzd2FeG1b",
        "outputId": "ac48a3de-677b-43ed-ce7f-c7bef445557c"
      },
      "execution_count": 2,
      "outputs": [
        {
          "output_type": "stream",
          "name": "stdout",
          "text": [
            "Mounted at /content/drive\n"
          ]
        }
      ]
    },
    {
      "cell_type": "code",
      "source": [],
      "metadata": {
        "id": "LTZ3gOthmOgZ"
      },
      "execution_count": null,
      "outputs": []
    },
    {
      "cell_type": "code",
      "source": [
        "# Display random sample of data\n",
        "print(\"Sample rows from the dataset:\")\n",
        "print(data.sample(10))"
      ],
      "metadata": {
        "colab": {
          "base_uri": "https://localhost:8080/"
        },
        "id": "ClXdTgyLeG4j",
        "outputId": "a84cc5c8-47f1-42a0-aba7-6762db345a48"
      },
      "execution_count": 3,
      "outputs": [
        {
          "output_type": "stream",
          "name": "stdout",
          "text": [
            "Sample rows from the dataset:\n",
            "     Age Gender Smoking Hx Smoking Hx Radiothreapy Thyroid Function  \\\n",
            "203   33      M      No         No              No        Euthyroid   \n",
            "277   41      M     Yes         No              No        Euthyroid   \n",
            "50    43      F      No         No              No        Euthyroid   \n",
            "326   35      F      No         No              No        Euthyroid   \n",
            "196   22      F      No         No              No        Euthyroid   \n",
            "262   38      F      No         No              No        Euthyroid   \n",
            "91    62      F      No         No              No        Euthyroid   \n",
            "305   30      F      No         No              No        Euthyroid   \n",
            "101   42      F      No         No              No        Euthyroid   \n",
            "88    35      F      No         No              No        Euthyroid   \n",
            "\n",
            "            Physical Examination Adenopathy       Pathology     Focality  \\\n",
            "203  Single nodular goiter-right         No       Papillary    Uni-Focal   \n",
            "277  Single nodular goiter-right         No    Hurthel cell  Multi-Focal   \n",
            "50   Single nodular goiter-right         No  Micropapillary    Uni-Focal   \n",
            "326  Single nodular goiter-right      Right       Papillary  Multi-Focal   \n",
            "196  Single nodular goiter-right         No       Papillary    Uni-Focal   \n",
            "262          Multinodular goiter         No       Papillary    Uni-Focal   \n",
            "91   Single nodular goiter-right         No      Follicular  Multi-Focal   \n",
            "305          Multinodular goiter      Right       Papillary    Uni-Focal   \n",
            "101   Single nodular goiter-left         No      Follicular    Uni-Focal   \n",
            "88           Multinodular goiter      Right       Papillary  Multi-Focal   \n",
            "\n",
            "             Risk    T    N   M Stage                Response Recurred  \n",
            "203           Low   T2  N1b  M0     I               Excellent       No  \n",
            "277  Intermediate  T3a   N0  M0     I               Excellent       No  \n",
            "50            Low  T1b   N0  M0     I               Excellent       No  \n",
            "326  Intermediate  T3a  N1a  M0     I  Biochemical Incomplete      Yes  \n",
            "196           Low   T2   N0  M0     I               Excellent       No  \n",
            "262           Low  T3a   N0  M0     I               Excellent       No  \n",
            "91   Intermediate  T1b   N0  M0     I   Structural Incomplete      Yes  \n",
            "305  Intermediate  T3a  N1b  M0     I   Structural Incomplete      Yes  \n",
            "101           Low   T2   N0  M0     I           Indeterminate       No  \n",
            "88   Intermediate  T1b  N1b  M0     I   Structural Incomplete      Yes  \n"
          ]
        }
      ]
    },
    {
      "cell_type": "code",
      "source": [
        "# Display data types and identify any missing values\n",
        "print(\"\\nColumn Data Types:\")\n",
        "print(data.dtypes)\n",
        "print(\"\\nMissing Values Check:\")\n",
        "print(data.isnull().sum())"
      ],
      "metadata": {
        "colab": {
          "base_uri": "https://localhost:8080/"
        },
        "id": "N09y7iJkmPBf",
        "outputId": "80276b88-4b7a-4443-9492-15456459d9eb"
      },
      "execution_count": 4,
      "outputs": [
        {
          "output_type": "stream",
          "name": "stdout",
          "text": [
            "\n",
            "Column Data Types:\n",
            "Age                      int64\n",
            "Gender                  object\n",
            "Smoking                 object\n",
            "Hx Smoking              object\n",
            "Hx Radiothreapy         object\n",
            "Thyroid Function        object\n",
            "Physical Examination    object\n",
            "Adenopathy              object\n",
            "Pathology               object\n",
            "Focality                object\n",
            "Risk                    object\n",
            "T                       object\n",
            "N                       object\n",
            "M                       object\n",
            "Stage                   object\n",
            "Response                object\n",
            "Recurred                object\n",
            "dtype: object\n",
            "\n",
            "Missing Values Check:\n",
            "Age                     0\n",
            "Gender                  0\n",
            "Smoking                 0\n",
            "Hx Smoking              0\n",
            "Hx Radiothreapy         0\n",
            "Thyroid Function        0\n",
            "Physical Examination    0\n",
            "Adenopathy              0\n",
            "Pathology               0\n",
            "Focality                0\n",
            "Risk                    0\n",
            "T                       0\n",
            "N                       0\n",
            "M                       0\n",
            "Stage                   0\n",
            "Response                0\n",
            "Recurred                0\n",
            "dtype: int64\n"
          ]
        }
      ]
    },
    {
      "cell_type": "code",
      "source": [
        "# EDA: Visualizations\n",
        "# Plot gender distribution among recurrence cases\n",
        "plt.figure(figsize=(6, 4))\n",
        "sns.countplot(x='Gender', hue='Recurred', data=data, palette='coolwarm')\n",
        "plt.title('Gender vs Recurred')\n",
        "plt.show()"
      ],
      "metadata": {
        "colab": {
          "base_uri": "https://localhost:8080/",
          "height": 410
        },
        "id": "9mqGJYSYmPEU",
        "outputId": "2553c806-18fd-4e31-da8f-34bac70fe5b4"
      },
      "execution_count": 5,
      "outputs": [
        {
          "output_type": "display_data",
          "data": {
            "text/plain": [
              "<Figure size 600x400 with 1 Axes>"
            ],
            "image/png": "[encoded data removed]"
          },
          "metadata": {}
        }
      ]
    },
    {
      "cell_type": "code",
      "source": [],
      "metadata": {
        "id": "JYWh04cRmPG4"
      },
      "execution_count": null,
      "outputs": []
    },
    {
      "cell_type": "code",
      "source": [],
      "metadata": {
        "id": "YruT93PdeG7E"
      },
      "execution_count": null,
      "outputs": []
    }
  ]
}